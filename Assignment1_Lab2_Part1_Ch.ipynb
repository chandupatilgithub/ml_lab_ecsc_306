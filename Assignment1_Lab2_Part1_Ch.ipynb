{
 "cells": [
  {
   "cell_type": "code",
   "execution_count": 1,
   "metadata": {
    "collapsed": true
   },
   "outputs": [],
   "source": [
    "import tensorflow as tf\n",
    "import numpy\n",
    "import matplotlib.pyplot as plt"
   ]
  },
  {
   "cell_type": "code",
   "execution_count": 2,
   "metadata": {
    "collapsed": true
   },
   "outputs": [],
   "source": [
    "train_X=numpy.asarray([1,2,4,3,5])\n",
    "train_Y=numpy.asarray([1,3,3,2,5])\n",
    "n_samples = train_X.shape[0]"
   ]
  },
  {
   "cell_type": "code",
   "execution_count": 3,
   "metadata": {
    "collapsed": true
   },
   "outputs": [],
   "source": [
    "X = tf.placeholder(\"float\")\n",
    "Y = tf.placeholder(\"float\")\n",
    "W = tf.Variable(0.0, name=\"weight\")\n",
    "b = tf.Variable(0.0, name=\"bias\")\n",
    "pred = tf.add(tf.multiply(X, W), b)\n",
    "cost = tf.reduce_sum(tf.pow(pred-Y, 2))/(2*n_samples)"
   ]
  },
  {
   "cell_type": "code",
   "execution_count": 4,
   "metadata": {},
   "outputs": [
    {
     "name": "stdout",
     "output_type": "stream",
     "text": [
      "LEARNING RATE= 0.05 \t Epoch= 100 \n",
      "\n",
      "\n",
      "Epoch: 0050 cost= 0.242040664 W= 0.844209 b= 0.280501\n",
      "Epoch: 0100 cost= 0.241635278 W= 0.838333 b= 0.303215\n",
      "Optimization Finished!\n",
      "Training cost= 0.241635 W= 0.838333 b= 0.303215 \n",
      "\n"
     ]
    },
    {
     "data": {
      "image/png": "[encoded data removed]",
      "text/plain": [
       "<matplotlib.figure.Figure at 0x7ff01ac7fc50>"
      ]
     },
     "metadata": {},
     "output_type": "display_data"
    }
   ],
   "source": [
    "    learning_rate=0.05\n",
    "    training_epochs=100\n",
    "    display_step = 50\n",
    "    print(\"LEARNING RATE=\",learning_rate,\"\\t Epoch=\",training_epochs,\"\\n\\n\")\n",
    "    optimizer = tf.train.GradientDescentOptimizer(learning_rate).minimize(cost)\n",
    "\n",
    "    init = tf.global_variables_initializer()\n",
    "    with tf.Session() as sess:\n",
    "        sess.run(init)\n",
    "\n",
    "    # Fit all training data\n",
    "        for epoch in range(training_epochs):\n",
    "            for (x, y) in zip(train_X, train_Y):\n",
    "                sess.run(optimizer, feed_dict={X: x, Y: y})\n",
    "\n",
    "        #Display logs per epoch step\n",
    "            if (epoch+1) % display_step == 0:\n",
    "                c = sess.run(cost, feed_dict={X: train_X, Y:train_Y})\n",
    "                print (\"Epoch:\", '%04d' % (epoch+1), \"cost=\", \"{:.9f}\".format(c), \\\n",
    "                \"W=\", sess.run(W), \"b=\", sess.run(b))\n",
    "\n",
    "        print (\"Optimization Finished!\")\n",
    "        training_cost = sess.run(cost, feed_dict={X: train_X, Y: train_Y})\n",
    "        print (\"Training cost=\", training_cost, \"W=\", sess.run(W), \"b=\", sess.run(b), '\\n')\n",
    "\n",
    "    #Graphic display\n",
    "        plt.plot(train_X, train_Y, 'ro', label='Original data')\n",
    "        plt.plot(train_X, sess.run(W) * train_X + sess.run(b), label='Fitted line')\n",
    "        plt.legend()\n",
    "        plt.show()"
   ]
  },
  {
   "cell_type": "code",
   "execution_count": 5,
   "metadata": {},
   "outputs": [
    {
     "name": "stdout",
     "output_type": "stream",
     "text": [
      "LEARNING RATE= 0.005 \t Epoch= 500 \n",
      "\n",
      "\n",
      "Epoch: 0050 cost= 0.253590971 W= 0.801722 b= 0.229982\n",
      "Epoch: 0100 cost= 0.242115974 W= 0.840568 b= 0.247629\n",
      "Epoch: 0150 cost= 0.241937876 W= 0.840941 b= 0.254299\n",
      "Epoch: 0200 cost= 0.241786718 W= 0.839436 b= 0.260173\n",
      "Epoch: 0250 cost= 0.241646916 W= 0.837899 b= 0.265778\n",
      "Epoch: 0300 cost= 0.241518334 W= 0.836421 b= 0.271148\n",
      "Epoch: 0350 cost= 0.241399959 W= 0.835004 b= 0.276296\n",
      "Epoch: 0400 cost= 0.241291076 W= 0.833647 b= 0.281229\n",
      "Epoch: 0450 cost= 0.241190821 W= 0.832345 b= 0.285958\n",
      "Epoch: 0500 cost= 0.241098478 W= 0.831098 b= 0.290491\n",
      "Optimization Finished!\n",
      "Training cost= 0.241098 W= 0.831098 b= 0.290491 \n",
      "\n"
     ]
    },
    {
     "data": {
      "image/png": "[encoded data removed]",
      "text/plain": [
       "<matplotlib.figure.Figure at 0x7ff018045eb8>"
      ]
     },
     "metadata": {},
     "output_type": "display_data"
    }
   ],
   "source": [
    "    learning_rate=0.005\n",
    "    training_epochs=500\n",
    "    display_step = 50\n",
    "    print(\"LEARNING RATE=\",learning_rate,\"\\t Epoch=\",training_epochs,\"\\n\\n\")\n",
    "    optimizer = tf.train.GradientDescentOptimizer(learning_rate).minimize(cost)\n",
    "\n",
    "    init = tf.global_variables_initializer()\n",
    "    with tf.Session() as sess:\n",
    "        sess.run(init)\n",
    "\n",
    "    # Fit all training data\n",
    "        for epoch in range(training_epochs):\n",
    "            for (x, y) in zip(train_X, train_Y):\n",
    "                sess.run(optimizer, feed_dict={X: x, Y: y})\n",
    "\n",
    "        #Display logs per epoch step\n",
    "            if (epoch+1) % display_step == 0:\n",
    "                c = sess.run(cost, feed_dict={X: train_X, Y:train_Y})\n",
    "                print (\"Epoch:\", '%04d' % (epoch+1), \"cost=\", \"{:.9f}\".format(c), \\\n",
    "                \"W=\", sess.run(W), \"b=\", sess.run(b))\n",
    "\n",
    "        print (\"Optimization Finished!\")\n",
    "        training_cost = sess.run(cost, feed_dict={X: train_X, Y: train_Y})\n",
    "        print (\"Training cost=\", training_cost, \"W=\", sess.run(W), \"b=\", sess.run(b), '\\n')\n",
    "\n",
    "    #Graphic display\n",
    "        plt.plot(train_X, train_Y, 'ro', label='Original data')\n",
    "        plt.plot(train_X, sess.run(W) * train_X + sess.run(b), label='Fitted line')\n",
    "        plt.legend()\n",
    "        plt.show()"
   ]
  },
  {
   "cell_type": "code",
   "execution_count": 6,
   "metadata": {},
   "outputs": [
    {
     "name": "stdout",
     "output_type": "stream",
     "text": [
      "LEARNING RATE= 0.005 \t Epoch= 1000 \n",
      "\n",
      "\n",
      "Epoch: 0050 cost= 0.253590971 W= 0.801722 b= 0.229982\n",
      "Epoch: 0100 cost= 0.242115974 W= 0.840568 b= 0.247629\n",
      "Epoch: 0150 cost= 0.241937876 W= 0.840941 b= 0.254299\n",
      "Epoch: 0200 cost= 0.241786718 W= 0.839436 b= 0.260173\n",
      "Epoch: 0250 cost= 0.241646916 W= 0.837899 b= 0.265778\n",
      "Epoch: 0300 cost= 0.241518334 W= 0.836421 b= 0.271148\n",
      "Epoch: 0350 cost= 0.241399959 W= 0.835004 b= 0.276296\n",
      "Epoch: 0400 cost= 0.241291076 W= 0.833647 b= 0.281229\n",
      "Epoch: 0450 cost= 0.241190821 W= 0.832345 b= 0.285958\n",
      "Epoch: 0500 cost= 0.241098478 W= 0.831098 b= 0.290491\n",
      "Epoch: 0550 cost= 0.241013572 W= 0.829903 b= 0.294835\n",
      "Epoch: 0600 cost= 0.240935415 W= 0.828757 b= 0.298999\n",
      "Epoch: 0650 cost= 0.240863442 W= 0.827658 b= 0.302989\n",
      "Epoch: 0700 cost= 0.240797281 W= 0.826606 b= 0.306815\n",
      "Epoch: 0750 cost= 0.240736172 W= 0.825597 b= 0.310481\n",
      "Epoch: 0800 cost= 0.240679979 W= 0.82463 b= 0.313995\n",
      "Epoch: 0850 cost= 0.240628317 W= 0.823703 b= 0.317364\n",
      "Epoch: 0900 cost= 0.240580559 W= 0.822814 b= 0.320592\n",
      "Epoch: 0950 cost= 0.240536690 W= 0.821962 b= 0.323687\n",
      "Epoch: 1000 cost= 0.240496278 W= 0.821146 b= 0.326653\n",
      "Optimization Finished!\n",
      "Training cost= 0.240496 W= 0.821146 b= 0.326653 \n",
      "\n"
     ]
    },
    {
     "data": {
      "image/png": "[encoded data removed]",
      "text/plain": [
       "<matplotlib.figure.Figure at 0x7ff00a6f66d8>"
      ]
     },
     "metadata": {},
     "output_type": "display_data"
    }
   ],
   "source": [
    "    learning_rate=0.005\n",
    "    training_epochs=1000\n",
    "    display_step = 50\n",
    "    print(\"LEARNING RATE=\",learning_rate,\"\\t Epoch=\",training_epochs,\"\\n\\n\")\n",
    "    optimizer = tf.train.GradientDescentOptimizer(learning_rate).minimize(cost)\n",
    "\n",
    "    init = tf.global_variables_initializer()\n",
    "    with tf.Session() as sess:\n",
    "        sess.run(init)\n",
    "\n",
    "    # Fit all training data\n",
    "        for epoch in range(training_epochs):\n",
    "            for (x, y) in zip(train_X, train_Y):\n",
    "                sess.run(optimizer, feed_dict={X: x, Y: y})\n",
    "\n",
    "        #Display logs per epoch step\n",
    "            if (epoch+1) % display_step == 0:\n",
    "                c = sess.run(cost, feed_dict={X: train_X, Y:train_Y})\n",
    "                print (\"Epoch:\", '%04d' % (epoch+1), \"cost=\", \"{:.9f}\".format(c), \\\n",
    "                \"W=\", sess.run(W), \"b=\", sess.run(b))\n",
    "\n",
    "        print (\"Optimization Finished!\")\n",
    "        training_cost = sess.run(cost, feed_dict={X: train_X, Y: train_Y})\n",
    "        print (\"Training cost=\", training_cost, \"W=\", sess.run(W), \"b=\", sess.run(b), '\\n')\n",
    "\n",
    "    #Graphic display\n",
    "        plt.plot(train_X, train_Y, 'ro', label='Original data')\n",
    "        plt.plot(train_X, sess.run(W) * train_X + sess.run(b), label='Fitted line')\n",
    "        plt.legend()\n",
    "        plt.show()"
   ]
  },
  {
   "cell_type": "code",
   "execution_count": null,
   "metadata": {
    "collapsed": true
   },
   "outputs": [],
   "source": []
  }
 ],
 "metadata": {
  "kernelspec": {
   "display_name": "Python 3",
   "language": "python",
   "name": "python3"
  },
  "language_info": {
   "codemirror_mode": {
    "name": "ipython",
    "version": 3
   },
   "file_extension": ".py",
   "mimetype": "text/x-python",
   "name": "python",
   "nbconvert_exporter": "python",
   "pygments_lexer": "ipython3",
   "version": "3.6.1"
  }
 },
 "nbformat": 4,
 "nbformat_minor": 2
}
