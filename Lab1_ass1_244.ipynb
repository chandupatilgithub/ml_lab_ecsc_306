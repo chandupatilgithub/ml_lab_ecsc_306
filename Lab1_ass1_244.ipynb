{
 "cells": [
  {
   "cell_type": "code",
   "execution_count": null,
   "metadata": {
    "collapsed": true
   },
   "outputs": [],
   "source": []
  },
  {
   "cell_type": "code",
   "execution_count": 2,
   "metadata": {},
   "outputs": [
    {
     "name": "stdout",
     "output_type": "stream",
     "text": [
      "4.0\n"
     ]
    }
   ],
   "source": [
    "#USN:01fe15bcs237\n",
    "#Assignment_1\n",
    "#Roll244\n",
    "#(a-b)^2\n",
    "import tensorflow as tf\n",
    "\n",
    "\n",
    "with tf.name_scope(\"A_minus_B_sqare\"):\n",
    "    a = tf.placeholder(tf.float32)\n",
    "    b = tf.placeholder(tf.float32)\n",
    "    with tf.name_scope(\"Power_Operation\"):\n",
    "        a2 = tf.pow(a,2, name=\"a_pow\")\n",
    "        b2 = tf.pow(b,2, name=\"b_pow\")\n",
    "    with tf.name_scope(\"Multiplication_Operation\"):\n",
    "        ab = tf.multiply(a, b,name=\"ab\")\n",
    "        ab2=tf.multiply(ab, 2,name=\"2ab\")\n",
    "    with tf.name_scope(\"Scope_subraction\"):\n",
    "        c=tf.subtract(a2,ab2,name=\"a2-2ab\")\n",
    "        d=tf.add(c,b2,name=\"a2_minus_2ab_plus_b2\")\n",
    "\n",
    "with tf.Session() as sess:\n",
    "    writer = tf.summary.FileWriter(\"/tmp/tboards/outputy\", sess.graph)\n",
    "    print(sess.run( d ,{a:4,b:2}))\n",
    "    writer.close()\n",
    "    \n",
    "    #tensorboard --logdir=/tmp/tboards/outputy"
   ]
  },
  {
   "cell_type": "code",
   "execution_count": 1,
   "metadata": {},
   "outputs": [
    {
     "name": "stdout",
     "output_type": "stream",
     "text": [
      "216.0\n"
     ]
    }
   ],
   "source": [
    "#USN:01fe15bcs237\n",
    "#Assignment_1\n",
    "#Roll244\n",
    "#(a+b)^3\n",
    "import tensorflow as tf\n",
    "\n",
    "with tf.name_scope(\"Answer\"):\n",
    "    a = tf.placeholder(tf.float32)\n",
    "    b = tf.placeholder(tf.float32)\n",
    "    a3 = tf.pow(a,3, name=\"a_pow\")\n",
    "    b3 = tf.pow(b,3, name=\"b_pow\")\n",
    "    ab = tf.multiply(a, b,name=\"ab\")\n",
    "    ab3=tf.multiply(ab, 3,name=\"_3ab\")\n",
    "    a_plus_b=tf.add(a,b)\n",
    "    d=tf.multiply( a_plus_b, ab3,name=\"_3ab_mult_aplusb\")\n",
    "    e=tf.add(a3,b3,name=\"a3_plus_b3\")\n",
    "    f=tf.add(e,d,name=\"a_plus_b_cube\")\n",
    "        \n",
    "\n",
    "with tf.Session() as sess:\n",
    "    writer = tf.summary.FileWriter(\"/tmp/tboard/output_\", sess.graph)\n",
    "    print(sess.run( f ,{a:4,b:2}))\n",
    "    writer.close()\n",
    "    \n",
    "    #tensorboard --logdir=/tmp/tboard/output_"
   ]
  },
  {
   "cell_type": "code",
   "execution_count": null,
   "metadata": {
    "collapsed": true
   },
   "outputs": [],
   "source": []
  },
  {
   "cell_type": "code",
   "execution_count": null,
   "metadata": {
    "collapsed": true
   },
   "outputs": [],
   "source": []
  }
 ],
 "metadata": {
  "kernelspec": {
   "display_name": "Python 3",
   "language": "python",
   "name": "python3"
  },
  "language_info": {
   "codemirror_mode": {
    "name": "ipython",
    "version": 3
   },
   "file_extension": ".py",
   "mimetype": "text/x-python",
   "name": "python",
   "nbconvert_exporter": "python",
   "pygments_lexer": "ipython3",
   "version": "3.5.4"
  }
 },
 "nbformat": 4,
 "nbformat_minor": 2
}
