{
 "cells": [
  {
   "cell_type": "code",
   "execution_count": null,
   "metadata": {},
   "outputs": [],
   "source": []
  },
  {
   "cell_type": "code",
   "execution_count": 3,
   "metadata": {},
   "outputs": [
    {
     "ename": "ModuleNotFoundError",
     "evalue": "No module named 'tensorflow'",
     "output_type": "error",
     "traceback": [
      "\u001b[1;31m---------------------------------------------------------------------------\u001b[0m",
      "\u001b[1;31mModuleNotFoundError\u001b[0m                       Traceback (most recent call last)",
      "\u001b[1;32m<ipython-input-3-c4d8b9fe392e>\u001b[0m in \u001b[0;36m<module>\u001b[1;34m()\u001b[0m\n\u001b[0;32m      3\u001b[0m \u001b[1;31m#Roll244\u001b[0m\u001b[1;33m\u001b[0m\u001b[1;33m\u001b[0m\u001b[0m\n\u001b[0;32m      4\u001b[0m \u001b[1;31m#(a-b)^2\u001b[0m\u001b[1;33m\u001b[0m\u001b[1;33m\u001b[0m\u001b[0m\n\u001b[1;32m----> 5\u001b[1;33m \u001b[1;32mimport\u001b[0m \u001b[0mtensorflow\u001b[0m \u001b[1;32mas\u001b[0m \u001b[0mtf\u001b[0m\u001b[1;33m\u001b[0m\u001b[0m\n\u001b[0m\u001b[0;32m      6\u001b[0m \u001b[0ma\u001b[0m \u001b[1;33m=\u001b[0m \u001b[0mtf\u001b[0m\u001b[1;33m.\u001b[0m\u001b[0mplaceholder\u001b[0m\u001b[1;33m(\u001b[0m\u001b[0mtf\u001b[0m\u001b[1;33m.\u001b[0m\u001b[0mfloat32\u001b[0m\u001b[1;33m)\u001b[0m\u001b[1;33m\u001b[0m\u001b[0m\n\u001b[0;32m      7\u001b[0m \u001b[0mb\u001b[0m \u001b[1;33m=\u001b[0m \u001b[0mtf\u001b[0m\u001b[1;33m.\u001b[0m\u001b[0mplaceholder\u001b[0m\u001b[1;33m(\u001b[0m\u001b[0mtf\u001b[0m\u001b[1;33m.\u001b[0m\u001b[0mfloat32\u001b[0m\u001b[1;33m)\u001b[0m\u001b[1;33m\u001b[0m\u001b[0m\n",
      "\u001b[1;31mModuleNotFoundError\u001b[0m: No module named 'tensorflow'"
     ]
    }
   ],
   "source": [
    "#USN:01fe15bcs237\n",
    "#Assignment_1\n",
    "#Roll244\n",
    "#(a-b)^2\n",
    "import tensorflow as tf\n",
    "a = tf.placeholder(tf.float32)\n",
    "b = tf.placeholder(tf.float32)\n",
    "\n",
    "with tf.name_scope(\"Final_Output\"):\n",
    "    with tf.name_scope(\"Power_Operation\"):\n",
    "        a2 = tf.pow(a,2, name=\"a_pow\")\n",
    "        b2 = tf.pow(b,2, name=\"b_pow\")\n",
    "    with tf.name_scope(\"Multiplication_Operation\"):\n",
    "        ab = tf.multiply(a, b,name=\"ab\")\n",
    "        ab2=tf.multiply(ab, 2,name=\"2ab\")\n",
    "    with tf.name_scope(\"Scope_subraction\"):\n",
    "        c=tf.subtract(a2,ab2,name=\"a2-2ab\")\n",
    "        d=tf.add(c,b2,name=\"a2_minus_2ab_plus_b2\")\n",
    "\n",
    "with tf.Session() as sess:\n",
    "    writer = tf.summary.FileWriter(\"/tmp/tboards/output_\", sess.graph)\n",
    "    print(sess.run( d ,{a:4,b:2}))\n",
    "    writer.close()\n",
    "    \n",
    "    #tensorboard --logdir=/tmp/tboard/output_"
   ]
  },
  {
   "cell_type": "code",
   "execution_count": 10,
   "metadata": {},
   "outputs": [
    {
     "name": "stdout",
     "output_type": "stream",
     "text": [
      "264.0\n"
     ]
    }
   ],
   "source": [
    "#USN:01fe15bcs237\n",
    "#Assignment_1\n",
    "#Roll244\n",
    "#(a+b)^3\n",
    "import tensorflow as tf\n",
    "a = tf.placeholder(tf.float32)\n",
    "b = tf.placeholder(tf.float32)\n",
    "\n",
    "\n",
    "with tf.name_scope(\"Answer\"):\n",
    "    a3 = tf.pow(a,3, name=\"a_pow\")\n",
    "    b3 = tf.pow(b,3, name=\"b_pow\")\n",
    "    ab = tf.multiply(a, b,name=\"ab\")\n",
    "    ab3=tf.multiply(ab, 3,name=\"_3ab\")\n",
    "    d=tf.multiply(ab, ab3,name=\"_3ab_mult_aplusb\")\n",
    "    e=tf.add(a3,b3,name=\"a3_plus_b3\")\n",
    "    f=tf.add(e,d,name=\"a_plus_b_cube\")\n",
    "        \n",
    "\n",
    "with tf.Session() as sess:\n",
    "    writer = tf.summary.FileWriter(\"/tmp/tboard/output_\", sess.graph)\n",
    "    print(sess.run( f ,{a:4,b:2}))\n",
    "    writer.close()\n",
    "    \n",
    "    #tensorboard --logdir=/tmp/tboard/output_"
   ]
  },
  {
   "cell_type": "code",
   "execution_count": null,
   "metadata": {
    "collapsed": true
   },
   "outputs": [],
   "source": []
  }
 ],
 "metadata": {
  "kernelspec": {
   "display_name": "Python 3",
   "language": "python",
   "name": "python3"
  },
  "language_info": {
   "codemirror_mode": {
    "name": "ipython",
    "version": 3
   },
   "file_extension": ".py",
   "mimetype": "text/x-python",
   "name": "python",
   "nbconvert_exporter": "python",
   "pygments_lexer": "ipython3",
   "version": "3.6.1"
  }
 },
 "nbformat": 4,
 "nbformat_minor": 2
}
